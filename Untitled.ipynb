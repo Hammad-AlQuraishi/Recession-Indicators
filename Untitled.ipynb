{
 "cells": [
  {
   "cell_type": "markdown",
   "id": "8a9b2c78",
   "metadata": {},
   "source": [
    "Recession, as defined by the NBER's Business Cycle Dating Committee defines a recession as *\"a significant decline in economic activity spread across the economy, lasting more than a few months, normally visible in production, employment, real income, and other indicators. A recession begins when the economy reaches a peak of activity and ends when the economy reaches its trough\"*"
   ]
  },
  {
   "cell_type": "markdown",
   "id": "fb187ef2",
   "metadata": {},
   "source": [
    "### Tech Stack:\n",
    "- Microsoft Excel, Streamlit, Matplotlib, Pandas"
   ]
  },
  {
   "cell_type": "markdown",
   "id": "25dfb585",
   "metadata": {},
   "source": [
    "### Dataset:\n",
    "\n",
    "[Link to the Kaggle Dataset](https://www.kaggle.com/datasets/mikoajfish99/us-recession-and-financial-indicators/code?select=Inflation+consumer+prices+for+the+United+States.csv)"
   ]
  },
  {
   "cell_type": "code",
   "execution_count": 1,
   "id": "8ee4e70e",
   "metadata": {},
   "outputs": [],
   "source": [
    "import pandas as pd\n",
    "import matplotlib.pyplot as plt\n",
    "\n",
    "GDP_df = pd.read_csv(\"Gross Domestic Product.csv\")\n",
    "RGDP_df = pd.read_csv(\"Real Gross Domestic Product.csv\")"
   ]
  },
  {
   "cell_type": "code",
   "execution_count": 2,
   "id": "9a36e67a",
   "metadata": {},
   "outputs": [
    {
     "data": {
      "image/png": "[encoded data removed]",
      "text/plain": [
       "<Figure size 432x288 with 1 Axes>"
      ]
     },
     "metadata": {
      "needs_background": "light"
     },
     "output_type": "display_data"
    }
   ],
   "source": [
    "RGDP_sct = plt.scatter(GDP_df['DATE'], GDP_df['GDP'], alpha=0.5)"
   ]
  },
  {
   "cell_type": "markdown",
   "id": "d155328d",
   "metadata": {},
   "source": [
    "Given that the number of datapoints are so numerous, we would like to aggregate the values per year or maybe twice a year so that the points are distinct. "
   ]
  },
  {
   "cell_type": "markdown",
   "id": "8b8a42c6",
   "metadata": {},
   "source": [
    "#### Note: I aggregated my data biannually under the assumption that it might prove to be helpful. Few cells below are my code for this. It didn't prove to be useful so the next few cells can be skipped, except for the ret_month and ret_year functions.\n",
    "\n",
    "**4/28/2023:** Given that each year has GDP calculated annually, we can aggregate the GDP bi-annually, and see how that displays on our scatterplot. "
   ]
  },
  {
   "cell_type": "code",
   "execution_count": 3,
   "id": "c9c44ef0",
   "metadata": {},
   "outputs": [],
   "source": [
    "from datetime import date\n",
    "\n",
    "\n",
    "def ret_month(date_str):\n",
    "    date_cls = date.fromisoformat(date_str)\n",
    "    return date_cls.month\n",
    "\n",
    "\n",
    "RGDP_df['MONTH'] = RGDP_df['DATE'].apply(ret_month)\n",
    "RGDP_df['BIANNUAL AVERAGE OF GDP'] = [(RGDP_df[\"GDPC1\"].iloc[i] + RGDP_df[\"GDPC1\"].iloc[i-1])/2\n",
    "                                     if RGDP_df[\"MONTH\"].iloc[i]%2 == 0 \n",
    "                                     else (RGDP_df[\"GDPC1\"].iloc[i] + RGDP_df[\"GDPC1\"].iloc[i+1])/2\n",
    "                                     for i in range(RGDP_df.shape[0])]"
   ]
  },
  {
   "cell_type": "code",
   "execution_count": 4,
   "id": "508add6b",
   "metadata": {},
   "outputs": [],
   "source": [
    "def ret_year(date_str):\n",
    "    date_cls = date.fromisoformat(date_str)\n",
    "    return date_cls.year\n",
    "\n",
    "\n",
    "GDP_df['YEAR'] = GDP_df['DATE'].apply(ret_year)\n",
    "RGDP_df['YEAR'] = RGDP_df['DATE'].apply(ret_year)\n",
    "\n",
    "#incase we need to aggregate the data biannually\n",
    "# RGDP_df['YEAR'] = [(f\"{RGDP_df['YEAR'].iloc[i]}1\") \n",
    "#                    if (RGDP_df['MONTH'].iloc[i]==1 or RGDP_df['MONTH'].iloc[i]==4) \n",
    "#                    else f\"{RGDP_df['YEAR'].iloc[i]}2\" for i in range(RGDP_df.shape[0])]\n"
   ]
  },
  {
   "cell_type": "code",
   "execution_count": 5,
   "id": "ef66e171",
   "metadata": {},
   "outputs": [
    {
     "data": {
      "text/html": [
       "<div>\n",
       "<style scoped>\n",
       "    .dataframe tbody tr th:only-of-type {\n",
       "        vertical-align: middle;\n",
       "    }\n",
       "\n",
       "    .dataframe tbody tr th {\n",
       "        vertical-align: top;\n",
       "    }\n",
       "\n",
       "    .dataframe thead th {\n",
       "        text-align: right;\n",
       "    }\n",
       "</style>\n",
       "<table border=\"1\" class=\"dataframe\">\n",
       "  <thead>\n",
       "    <tr style=\"text-align: right;\">\n",
       "      <th></th>\n",
       "      <th>DATE</th>\n",
       "      <th>GDPC1</th>\n",
       "      <th>MONTH</th>\n",
       "      <th>BIANNUAL AVERAGE OF GDP</th>\n",
       "      <th>YEAR</th>\n",
       "    </tr>\n",
       "  </thead>\n",
       "  <tbody>\n",
       "    <tr>\n",
       "      <th>0</th>\n",
       "      <td>1947-01-01</td>\n",
       "      <td>2034.450</td>\n",
       "      <td>1</td>\n",
       "      <td>2031.7370</td>\n",
       "      <td>1947</td>\n",
       "    </tr>\n",
       "    <tr>\n",
       "      <th>1</th>\n",
       "      <td>1947-04-01</td>\n",
       "      <td>2029.024</td>\n",
       "      <td>4</td>\n",
       "      <td>2031.7370</td>\n",
       "      <td>1947</td>\n",
       "    </tr>\n",
       "    <tr>\n",
       "      <th>2</th>\n",
       "      <td>1947-07-01</td>\n",
       "      <td>2024.834</td>\n",
       "      <td>7</td>\n",
       "      <td>2040.6710</td>\n",
       "      <td>1947</td>\n",
       "    </tr>\n",
       "    <tr>\n",
       "      <th>3</th>\n",
       "      <td>1947-10-01</td>\n",
       "      <td>2056.508</td>\n",
       "      <td>10</td>\n",
       "      <td>2040.6710</td>\n",
       "      <td>1947</td>\n",
       "    </tr>\n",
       "    <tr>\n",
       "      <th>4</th>\n",
       "      <td>1948-01-01</td>\n",
       "      <td>2087.442</td>\n",
       "      <td>1</td>\n",
       "      <td>2104.6705</td>\n",
       "      <td>1948</td>\n",
       "    </tr>\n",
       "  </tbody>\n",
       "</table>\n",
       "</div>"
      ],
      "text/plain": [
       "         DATE     GDPC1  MONTH  BIANNUAL AVERAGE OF GDP  YEAR\n",
       "0  1947-01-01  2034.450      1                2031.7370  1947\n",
       "1  1947-04-01  2029.024      4                2031.7370  1947\n",
       "2  1947-07-01  2024.834      7                2040.6710  1947\n",
       "3  1947-10-01  2056.508     10                2040.6710  1947\n",
       "4  1948-01-01  2087.442      1                2104.6705  1948"
      ]
     },
     "execution_count": 5,
     "metadata": {},
     "output_type": "execute_result"
    }
   ],
   "source": [
    "# GDP_df['Year'].head()\n",
    "RGDP_df.head()"
   ]
  },
  {
   "cell_type": "code",
   "execution_count": 6,
   "id": "8fab4f2b",
   "metadata": {
    "scrolled": true
   },
   "outputs": [
    {
     "data": {
      "text/html": [
       "<div>\n",
       "<style scoped>\n",
       "    .dataframe tbody tr th:only-of-type {\n",
       "        vertical-align: middle;\n",
       "    }\n",
       "\n",
       "    .dataframe tbody tr th {\n",
       "        vertical-align: top;\n",
       "    }\n",
       "\n",
       "    .dataframe thead th {\n",
       "        text-align: right;\n",
       "    }\n",
       "</style>\n",
       "<table border=\"1\" class=\"dataframe\">\n",
       "  <thead>\n",
       "    <tr style=\"text-align: right;\">\n",
       "      <th></th>\n",
       "      <th>YEAR</th>\n",
       "      <th>BIANNUAL AVERAGE OF GDP</th>\n",
       "    </tr>\n",
       "  </thead>\n",
       "  <tbody>\n",
       "    <tr>\n",
       "      <th>0</th>\n",
       "      <td>1947</td>\n",
       "      <td>2036.20400</td>\n",
       "    </tr>\n",
       "    <tr>\n",
       "      <th>1</th>\n",
       "      <td>1948</td>\n",
       "      <td>2119.95925</td>\n",
       "    </tr>\n",
       "    <tr>\n",
       "      <th>2</th>\n",
       "      <td>1949</td>\n",
       "      <td>2107.99900</td>\n",
       "    </tr>\n",
       "    <tr>\n",
       "      <th>3</th>\n",
       "      <td>1950</td>\n",
       "      <td>2291.11050</td>\n",
       "    </tr>\n",
       "    <tr>\n",
       "      <th>4</th>\n",
       "      <td>1951</td>\n",
       "      <td>2475.44875</td>\n",
       "    </tr>\n",
       "  </tbody>\n",
       "</table>\n",
       "</div>"
      ],
      "text/plain": [
       "   YEAR  BIANNUAL AVERAGE OF GDP\n",
       "0  1947               2036.20400\n",
       "1  1948               2119.95925\n",
       "2  1949               2107.99900\n",
       "3  1950               2291.11050\n",
       "4  1951               2475.44875"
      ]
     },
     "execution_count": 6,
     "metadata": {},
     "output_type": "execute_result"
    }
   ],
   "source": [
    "biannual_RGDP = RGDP_df.loc[:,['YEAR', 'BIANNUAL AVERAGE OF GDP']].groupby(['YEAR'], as_index=False).mean()\n",
    "biannual_RGDP.head()"
   ]
  },
  {
   "cell_type": "code",
   "execution_count": 7,
   "id": "5d026853",
   "metadata": {},
   "outputs": [
    {
     "data": {
      "text/plain": [
       "<matplotlib.collections.PathCollection at 0x7fc34fd8d7b0>"
      ]
     },
     "execution_count": 7,
     "metadata": {},
     "output_type": "execute_result"
    },
    {
     "data": {
      "image/png": "[encoded data removed]",
      "text/plain": [
       "<Figure size 432x288 with 1 Axes>"
      ]
     },
     "metadata": {
      "needs_background": "light"
     },
     "output_type": "display_data"
    }
   ],
   "source": [
    "biannual_RGDP.describe()\n",
    "plt.scatter(biannual_RGDP['YEAR'].iloc[0:20], biannual_RGDP['BIANNUAL AVERAGE OF GDP'].iloc[0:20])"
   ]
  },
  {
   "cell_type": "markdown",
   "id": "1eb26ea6",
   "metadata": {},
   "source": [
    "**4/29/2023:** Although aggregating biannually didn't help much, it would still allow us to have more range in our scatter plots for when we would need a bit of a broader view, which can be followed up with more quarterly view as needed. \n",
    "\n",
    "I can foresee that I will have to be creating a decent number of scatterplots for different ranges and sets of data, for which I would like to create a time-friendly User interface which can help me do just that."
   ]
  },
  {
   "cell_type": "markdown",
   "id": "04854526",
   "metadata": {},
   "source": [
    "**5/3/2023:** I realized that before I can do what I mentioned in the last cell, I would be needing all of my parameters standardized in a single dataframe, so that it can be used o create the visualization UI. I will be working on those for now. Among the parameters that I am looking for, I want:\n",
    "- Total Credit per each quarter.\n",
    "- GDP per each quarter.\n",
    "- Changes in consumption items prices (Consumer Price Indices values).\n",
    "and others."
   ]
  },
  {
   "cell_type": "code",
   "execution_count": 8,
   "id": "dba02e0f",
   "metadata": {},
   "outputs": [],
   "source": [
    "ultimate_df = RGDP_df\n",
    "\n",
    "def ret_quarters(month):\n",
    "    if month == 1:\n",
    "        return 1\n",
    "    elif month == 4:\n",
    "        return 2\n",
    "    elif month == 7:\n",
    "        return 3\n",
    "    else:\n",
    "        return 4\n",
    "            \n",
    "        \n",
    "ultimate_df['QUARTER'] = [1] * ultimate_df.shape[0]\n",
    "ultimate_df['QUARTER'] = ultimate_df['MONTH'].apply(ret_quarters)"
   ]
  },
  {
   "cell_type": "code",
   "execution_count": 9,
   "id": "de366422",
   "metadata": {},
   "outputs": [],
   "source": [
    "ultimate_df.drop(columns=['BIANNUAL AVERAGE OF GDP', 'MONTH', 'DATE'], inplace=True)\n",
    "ultimate_df.rename(columns={'GDPC1': 'RGDP'}, inplace=True)"
   ]
  },
  {
   "cell_type": "code",
   "execution_count": 10,
   "id": "105098bb",
   "metadata": {},
   "outputs": [],
   "source": [
    "credit_df = pd.read_csv('Bank Credit All Commercial Banks.csv')\n",
    "credit_df['YEAR'] = credit_df['DATE'].apply(ret_year)\n",
    "credit_df['MONTH'] = credit_df['DATE'].apply(ret_month)"
   ]
  },
  {
   "cell_type": "code",
   "execution_count": 11,
   "id": "515010c1",
   "metadata": {
    "scrolled": false
   },
   "outputs": [],
   "source": [
    "def ret_quarter(month):\n",
    "    if month == 1 or month == 2 or month == 3:\n",
    "        return 1\n",
    "    elif month == 4 or month == 5 or month == 6:\n",
    "        return 2\n",
    "    elif month == 7 or month == 8 or month == 9:\n",
    "        return 3\n",
    "    else:\n",
    "        return 4\n",
    "\n",
    "\n",
    "credit_df['QUARTER'] = credit_df['MONTH'].apply(ret_quarter)\n",
    "credit_df.drop(columns=['DATE', 'MONTH'], inplace=True)\n",
    "credit_df = credit_df.groupby(['YEAR','QUARTER']).mean()\n",
    "credit_df.reset_index(inplace=True)\n",
    "credit_df.rename(columns={'TOTBKCR': 'TOTAL CREDIT'}, inplace=True)"
   ]
  },
  {
   "cell_type": "code",
   "execution_count": 12,
   "id": "1b36184f",
   "metadata": {},
   "outputs": [],
   "source": [
    "ultimate_df = ultimate_df.merge(credit_df, on=['YEAR', 'QUARTER'])"
   ]
  },
  {
   "cell_type": "code",
   "execution_count": 13,
   "id": "397ddab9",
   "metadata": {},
   "outputs": [
    {
     "data": {
      "text/html": [
       "<div>\n",
       "<style scoped>\n",
       "    .dataframe tbody tr th:only-of-type {\n",
       "        vertical-align: middle;\n",
       "    }\n",
       "\n",
       "    .dataframe tbody tr th {\n",
       "        vertical-align: top;\n",
       "    }\n",
       "\n",
       "    .dataframe thead th {\n",
       "        text-align: right;\n",
       "    }\n",
       "</style>\n",
       "<table border=\"1\" class=\"dataframe\">\n",
       "  <thead>\n",
       "    <tr style=\"text-align: right;\">\n",
       "      <th></th>\n",
       "      <th>DATE</th>\n",
       "      <th>STICKCPIM157SFRBATL</th>\n",
       "      <th>MONTH</th>\n",
       "      <th>YEAR</th>\n",
       "      <th>QUARTER</th>\n",
       "    </tr>\n",
       "  </thead>\n",
       "  <tbody>\n",
       "    <tr>\n",
       "      <th>0</th>\n",
       "      <td>1967-01-01</td>\n",
       "      <td>0.24883</td>\n",
       "      <td>1</td>\n",
       "      <td>1967</td>\n",
       "      <td>1</td>\n",
       "    </tr>\n",
       "    <tr>\n",
       "      <th>1</th>\n",
       "      <td>1967-02-01</td>\n",
       "      <td>0.31950</td>\n",
       "      <td>2</td>\n",
       "      <td>1967</td>\n",
       "      <td>1</td>\n",
       "    </tr>\n",
       "    <tr>\n",
       "      <th>2</th>\n",
       "      <td>1967-03-01</td>\n",
       "      <td>0.02967</td>\n",
       "      <td>3</td>\n",
       "      <td>1967</td>\n",
       "      <td>1</td>\n",
       "    </tr>\n",
       "    <tr>\n",
       "      <th>3</th>\n",
       "      <td>1967-04-01</td>\n",
       "      <td>0.31966</td>\n",
       "      <td>4</td>\n",
       "      <td>1967</td>\n",
       "      <td>2</td>\n",
       "    </tr>\n",
       "    <tr>\n",
       "      <th>4</th>\n",
       "      <td>1967-05-01</td>\n",
       "      <td>0.28525</td>\n",
       "      <td>5</td>\n",
       "      <td>1967</td>\n",
       "      <td>2</td>\n",
       "    </tr>\n",
       "    <tr>\n",
       "      <th>5</th>\n",
       "      <td>1967-06-01</td>\n",
       "      <td>0.29120</td>\n",
       "      <td>6</td>\n",
       "      <td>1967</td>\n",
       "      <td>2</td>\n",
       "    </tr>\n",
       "    <tr>\n",
       "      <th>6</th>\n",
       "      <td>1967-07-01</td>\n",
       "      <td>0.33678</td>\n",
       "      <td>7</td>\n",
       "      <td>1967</td>\n",
       "      <td>3</td>\n",
       "    </tr>\n",
       "    <tr>\n",
       "      <th>7</th>\n",
       "      <td>1967-08-01</td>\n",
       "      <td>0.29795</td>\n",
       "      <td>8</td>\n",
       "      <td>1967</td>\n",
       "      <td>3</td>\n",
       "    </tr>\n",
       "    <tr>\n",
       "      <th>8</th>\n",
       "      <td>1967-09-01</td>\n",
       "      <td>0.23618</td>\n",
       "      <td>9</td>\n",
       "      <td>1967</td>\n",
       "      <td>3</td>\n",
       "    </tr>\n",
       "    <tr>\n",
       "      <th>9</th>\n",
       "      <td>1967-10-01</td>\n",
       "      <td>0.36421</td>\n",
       "      <td>10</td>\n",
       "      <td>1967</td>\n",
       "      <td>4</td>\n",
       "    </tr>\n",
       "  </tbody>\n",
       "</table>\n",
       "</div>"
      ],
      "text/plain": [
       "         DATE  STICKCPIM157SFRBATL  MONTH  YEAR  QUARTER\n",
       "0  1967-01-01              0.24883      1  1967        1\n",
       "1  1967-02-01              0.31950      2  1967        1\n",
       "2  1967-03-01              0.02967      3  1967        1\n",
       "3  1967-04-01              0.31966      4  1967        2\n",
       "4  1967-05-01              0.28525      5  1967        2\n",
       "5  1967-06-01              0.29120      6  1967        2\n",
       "6  1967-07-01              0.33678      7  1967        3\n",
       "7  1967-08-01              0.29795      8  1967        3\n",
       "8  1967-09-01              0.23618      9  1967        3\n",
       "9  1967-10-01              0.36421     10  1967        4"
      ]
     },
     "execution_count": 13,
     "metadata": {},
     "output_type": "execute_result"
    }
   ],
   "source": [
    "CPI_df = pd.read_csv('Sticky Price Consumer Price Index.csv')\n",
    "CPI_df['MONTH'] = CPI_df['DATE'].apply(ret_month)\n",
    "CPI_df['YEAR'] = CPI_df['DATE'].apply(ret_year)\n",
    "CPI_df['QUARTER'] = CPI_df['MONTH'].apply(ret_quarter)\n",
    "CPI_df.head(10)"
   ]
  },
  {
   "cell_type": "code",
   "execution_count": 14,
   "id": "13546d98",
   "metadata": {},
   "outputs": [],
   "source": [
    "CPI_df.drop(columns=['DATE', 'MONTH'], inplace=True)\n",
    "#SCPI: Sticky Consumer Price Index\n",
    "CPI_df.rename(columns={'STICKCPIM157SFRBATL': 'SCPI'}, inplace=True)"
   ]
  },
  {
   "cell_type": "code",
   "execution_count": 15,
   "id": "cf57f4d6",
   "metadata": {},
   "outputs": [],
   "source": [
    "ultimate_df = ultimate_df.merge(CPI_df, on=['YEAR', 'QUARTER'])"
   ]
  },
  {
   "cell_type": "code",
   "execution_count": 16,
   "id": "1610bc12",
   "metadata": {},
   "outputs": [
    {
     "data": {
      "text/html": [
       "<div>\n",
       "<style scoped>\n",
       "    .dataframe tbody tr th:only-of-type {\n",
       "        vertical-align: middle;\n",
       "    }\n",
       "\n",
       "    .dataframe tbody tr th {\n",
       "        vertical-align: top;\n",
       "    }\n",
       "\n",
       "    .dataframe thead th {\n",
       "        text-align: right;\n",
       "    }\n",
       "</style>\n",
       "<table border=\"1\" class=\"dataframe\">\n",
       "  <thead>\n",
       "    <tr style=\"text-align: right;\">\n",
       "      <th></th>\n",
       "      <th>RGDP</th>\n",
       "      <th>YEAR</th>\n",
       "      <th>QUARTER</th>\n",
       "      <th>TOTAL CREDIT</th>\n",
       "      <th>SCPI</th>\n",
       "    </tr>\n",
       "  </thead>\n",
       "  <tbody>\n",
       "    <tr>\n",
       "      <th>0</th>\n",
       "      <td>5646.286</td>\n",
       "      <td>1973</td>\n",
       "      <td>1</td>\n",
       "      <td>574.206762</td>\n",
       "      <td>0.16175</td>\n",
       "    </tr>\n",
       "    <tr>\n",
       "      <th>1</th>\n",
       "      <td>5646.286</td>\n",
       "      <td>1973</td>\n",
       "      <td>1</td>\n",
       "      <td>574.206762</td>\n",
       "      <td>0.29682</td>\n",
       "    </tr>\n",
       "    <tr>\n",
       "      <th>2</th>\n",
       "      <td>5646.286</td>\n",
       "      <td>1973</td>\n",
       "      <td>1</td>\n",
       "      <td>574.206762</td>\n",
       "      <td>0.28941</td>\n",
       "    </tr>\n",
       "    <tr>\n",
       "      <th>3</th>\n",
       "      <td>5707.755</td>\n",
       "      <td>1973</td>\n",
       "      <td>2</td>\n",
       "      <td>595.942177</td>\n",
       "      <td>0.35744</td>\n",
       "    </tr>\n",
       "    <tr>\n",
       "      <th>4</th>\n",
       "      <td>5707.755</td>\n",
       "      <td>1973</td>\n",
       "      <td>2</td>\n",
       "      <td>595.942177</td>\n",
       "      <td>0.47760</td>\n",
       "    </tr>\n",
       "    <tr>\n",
       "      <th>5</th>\n",
       "      <td>5707.755</td>\n",
       "      <td>1973</td>\n",
       "      <td>2</td>\n",
       "      <td>595.942177</td>\n",
       "      <td>0.33368</td>\n",
       "    </tr>\n",
       "    <tr>\n",
       "      <th>6</th>\n",
       "      <td>5677.738</td>\n",
       "      <td>1973</td>\n",
       "      <td>3</td>\n",
       "      <td>615.332046</td>\n",
       "      <td>0.26612</td>\n",
       "    </tr>\n",
       "    <tr>\n",
       "      <th>7</th>\n",
       "      <td>5677.738</td>\n",
       "      <td>1973</td>\n",
       "      <td>3</td>\n",
       "      <td>615.332046</td>\n",
       "      <td>0.57788</td>\n",
       "    </tr>\n",
       "    <tr>\n",
       "      <th>8</th>\n",
       "      <td>5677.738</td>\n",
       "      <td>1973</td>\n",
       "      <td>3</td>\n",
       "      <td>615.332046</td>\n",
       "      <td>0.81548</td>\n",
       "    </tr>\n",
       "    <tr>\n",
       "      <th>9</th>\n",
       "      <td>5731.632</td>\n",
       "      <td>1973</td>\n",
       "      <td>4</td>\n",
       "      <td>631.678185</td>\n",
       "      <td>1.06692</td>\n",
       "    </tr>\n",
       "  </tbody>\n",
       "</table>\n",
       "</div>"
      ],
      "text/plain": [
       "       RGDP  YEAR  QUARTER  TOTAL CREDIT     SCPI\n",
       "0  5646.286  1973        1    574.206762  0.16175\n",
       "1  5646.286  1973        1    574.206762  0.29682\n",
       "2  5646.286  1973        1    574.206762  0.28941\n",
       "3  5707.755  1973        2    595.942177  0.35744\n",
       "4  5707.755  1973        2    595.942177  0.47760\n",
       "5  5707.755  1973        2    595.942177  0.33368\n",
       "6  5677.738  1973        3    615.332046  0.26612\n",
       "7  5677.738  1973        3    615.332046  0.57788\n",
       "8  5677.738  1973        3    615.332046  0.81548\n",
       "9  5731.632  1973        4    631.678185  1.06692"
      ]
     },
     "execution_count": 16,
     "metadata": {},
     "output_type": "execute_result"
    }
   ],
   "source": [
    "ultimate_df.head(10)"
   ]
  },
  {
   "cell_type": "markdown",
   "id": "7483ac7c",
   "metadata": {},
   "source": [
    "### This is where I start building the data visualization interface.\n",
    "\n"
   ]
  },
  {
   "cell_type": "code",
   "execution_count": 17,
   "id": "444eb825",
   "metadata": {},
   "outputs": [],
   "source": [
    "ultimate_df.to_excel('ultimate_workbook.xlsx')"
   ]
  },
  {
   "cell_type": "code",
   "execution_count": 20,
   "id": "1bbadb53",
   "metadata": {},
   "outputs": [
    {
     "name": "stdout",
     "output_type": "stream",
     "text": [
      "Overwriting streamlit_app.py\n"
     ]
    }
   ],
   "source": [
    "%%writefile streamlit_app.py\n",
    "\n",
    "import streamlit as st\n",
    "import pandas as pd\n",
    "\n",
    "st.set_page_config(page_title='Recession Indicator',\n",
    "                  page_icon=\":bar_chart:\",\n",
    "                  layout='wide'\n",
    "                  )\n",
    "\n",
    "ultimate_df = pd.read_excel(\n",
    "                io='ultimate_workbook.xlsx',\n",
    "                engine='openpyxl',\n",
    "                sheet_name = 'Sheet1',\n",
    "                usecols='B:F',\n",
    "                nrows=601\n",
    "                )\n",
    "\n",
    "#Sidebar settings:\n",
    "st.sidebar.header('Please Filter here based on the Year and the Quarter desired:')\n",
    "\n",
    "year = st.sidebar.slider(\n",
    "    \"Select the range for years:\",\n",
    "    min_value=1973.0,\n",
    "    max_value=2022.0,\n",
    "    value=(1990.0,2022.0),\n",
    "    step=0.25\n",
    ")\n",
    "\n",
    "quarter = st.sidebar.multiselect(\n",
    "        \"Select the quarter here:\",\n",
    "    options=ultimate_df['QUARTER'].unique(),\n",
    "    default=1)\n",
    "\n",
    "df_selection = ultimate_df.query(\n",
    "    'YEAR >= @year[0] and YEAR <= @year[1] and QUARTER == @quarter')\n",
    "\n",
    "\n",
    "# --- Header ---\n",
    "st.title(\":bar_chart: Recession Indicators\")\n",
    "\n",
    "# ---Side text for Recession History---\n",
    "with st.expander('', expanded=True):\n",
    "    r_col, m_col, l_col = st.columns(3)\n",
    "    \n",
    "    with r_col:\n",
    "        st.markdown(f'''\n",
    "        #### What is recession?\n",
    "        A recession is most often defined as an economic contraction of atleast 2% of the prior GDP for two consecutive quarters. Among many other indicators, a blow-up in credit volume followed by an increase in consumer prices are considered to be the messengers of a pending recession.\n",
    "        ''', unsafe_allow_html=True)\n",
    "    \n",
    "    with m_col:\n",
    "        st.markdown(f'''\n",
    "        #### Indicators outlined in the project:\n",
    "        <ul>\n",
    "            <li><strong>A decline in GDP:</strong> A decline in GDP of more than 2% over two consecutive quarters.</li>\n",
    "            <li><strong>Increase in Credit Volume:</strong> Given that recession follows a peak in the market economy when consumers are spending extensively based on credit under the pretense that everything is alright.\n",
    "            <li><strong>Increase in Consumer Prices:</strong> Given that people are spending more which increases demand, which in turn increases the prices of things.\n",
    "            ''', unsafe_allow_html=True)\n",
    "    \n",
    "    with l_col:\n",
    "        st.markdown(f'''\n",
    "        #### A Brief list of all the Recessions to hit US since The Great Depression:\n",
    "        <ol style=\"padding-left:20px\">\n",
    "          <li>May 1937-June 1938</li>\n",
    "          <li>February 1995-October 1995</li>\n",
    "          <li>November 1948-October-1949</li>\n",
    "          <li>July 1953-May 1954</li>\n",
    "          <li>August 1957-April 1958</li>\n",
    "          <li>April 1960-February 1961</li>\n",
    "          <li>December 1969-November 1970</li>\n",
    "          <li>November 1973-March 1975</li>\n",
    "          <li>January 1980-July 1980</li>\n",
    "          <li>July 1981-November 1982</li>\n",
    "          <li>July 1990-March 1991</li>\n",
    "          <li>March 2001-November 2001</li>\n",
    "          <li>December 2007-June 2009</li>\n",
    "          <li>February 2020-June 2020</li>\n",
    "        </ol>\n",
    "        \n",
    "        ''', unsafe_allow_html=True)"
   ]
  },
  {
   "cell_type": "code",
   "execution_count": null,
   "id": "86a159c8",
   "metadata": {},
   "outputs": [
    {
     "name": "stdout",
     "output_type": "stream",
     "text": [
      "\n",
      "Collecting usage statistics. To deactivate, set browser.gatherUsageStats to False.\n",
      "\u001b[0m\n",
      "\u001b[0m\n",
      "\u001b[34m\u001b[1m  You can now view your Streamlit app in your browser.\u001b[0m\n",
      "\u001b[0m\n",
      "\u001b[34m  Network URL: \u001b[0m\u001b[1mhttp://10.0.0.248:8501\u001b[0m\n",
      "\u001b[34m  External URL: \u001b[0m\u001b[1mhttp://98.192.71.11:8501\u001b[0m\n",
      "\u001b[0m\n"
     ]
    }
   ],
   "source": [
    "!streamlit run streamlit_app.py"
   ]
  },
  {
   "cell_type": "markdown",
   "id": "7fb8780f",
   "metadata": {},
   "source": [
    "### Citations:\n",
    "Federal Reserve Bank of Atlanta, Sticky Price Consumer Price Index less Food and Energy [CORESTICKM159SFRBATL], retrieved from FRED, Federal Reserve Bank of St. Louis; https://fred.stlouisfed.org/series/CORESTICKM159SFRBATL, May 3, 2023."
   ]
  }
 ],
 "metadata": {
  "kernelspec": {
   "display_name": "Python 3 (ipykernel)",
   "language": "python",
   "name": "python3"
  },
  "language_info": {
   "codemirror_mode": {
    "name": "ipython",
    "version": 3
   },
   "file_extension": ".py",
   "mimetype": "text/x-python",
   "name": "python",
   "nbconvert_exporter": "python",
   "pygments_lexer": "ipython3",
   "version": "3.10.6"
  }
 },
 "nbformat": 4,
 "nbformat_minor": 5
}
